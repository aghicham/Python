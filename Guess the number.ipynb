{
 "cells": [
  {
   "cell_type": "code",
   "execution_count": null,
   "id": "a21760f4",
   "metadata": {},
   "outputs": [
    {
     "name": "stdout",
     "output_type": "stream",
     "text": [
      "Welcome to the Guess the Number game! I'm thinking of a number between 1 and 100. Can you guess what it is?\n"
     ]
    }
   ],
   "source": [
    "print(\"Welcome to the Guess the Number game! I'm thinking of a number between 1 and 100. Can you guess what it is?\")\n",
    "import random  \n",
    "x=int((random.randint(1,100)))\n",
    "while True:\n",
    "    n=int(input('Enter you guess: '))\n",
    "    if n==x:\n",
    "        print('Congratulations! You guessed the number correctly!')\n",
    "        break\n",
    "    elif n>x:\n",
    "        print('Your guess is too high. Guess again.')\n",
    "    else:\n",
    "        print('Your guess is too low. Guess again.')"
   ]
  },
  {
   "cell_type": "markdown",
   "id": "fd366821",
   "metadata": {},
   "source": []
  },
  {
   "cell_type": "code",
   "execution_count": null,
   "id": "f81a3428",
   "metadata": {},
   "outputs": [],
   "source": []
  },
  {
   "cell_type": "code",
   "execution_count": null,
   "id": "aa8bd662",
   "metadata": {},
   "outputs": [],
   "source": []
  }
 ],
 "metadata": {
  "kernelspec": {
   "display_name": "Python 3 (ipykernel)",
   "language": "python",
   "name": "python3"
  },
  "language_info": {
   "codemirror_mode": {
    "name": "ipython",
    "version": 3
   },
   "file_extension": ".py",
   "mimetype": "text/x-python",
   "name": "python",
   "nbconvert_exporter": "python",
   "pygments_lexer": "ipython3",
   "version": "3.11.5"
  }
 },
 "nbformat": 4,
 "nbformat_minor": 5
}
