{
 "cells": [
  {
   "cell_type": "code",
   "execution_count": null,
   "id": "c03b6cb5",
   "metadata": {},
   "outputs": [],
   "source": [
    "#1 Read an entire text file\n",
    "python\n",
    "Copier le code\n",
    "def read_entire_file(file_path):\n",
    "    with open(file_path, 'r') as file:\n",
    "        content = file.read()\n",
    "    return content\n",
    "\n",
    "#2 Read the first n lines of a file\n",
    "python\n",
    "Copier le code\n",
    "def read_first_n_lines(file_path, n):\n",
    "    with open(file_path, 'r') as file:\n",
    "        lines = [next(file) for _ in range(n)]\n",
    "    return lines\n",
    "\n",
    "#3 Read the last n lines of a file\n",
    "python\n",
    "Copier le code\n",
    "def read_last_n_lines(file_path, n):\n",
    "    with open(file_path, 'r') as file:\n",
    "        lines = file.readlines()\n",
    "    return lines[-n:]\n",
    "\n",
    "\n",
    "#4 Count the number of words in a file\n",
    "python\n",
    "Copier le code\n",
    "def count_words_in_file(file_path):\n",
    "    with open(file_path, 'r') as file:\n",
    "        content = file.read()\n",
    "    words = content.split()\n",
    "    return len(words)"
   ]
  }
 ],
 "metadata": {
  "kernelspec": {
   "display_name": "Python 3 (ipykernel)",
   "language": "python",
   "name": "python3"
  },
  "language_info": {
   "codemirror_mode": {
    "name": "ipython",
    "version": 3
   },
   "file_extension": ".py",
   "mimetype": "text/x-python",
   "name": "python",
   "nbconvert_exporter": "python",
   "pygments_lexer": "ipython3",
   "version": "3.11.5"
  }
 },
 "nbformat": 4,
 "nbformat_minor": 5
}
