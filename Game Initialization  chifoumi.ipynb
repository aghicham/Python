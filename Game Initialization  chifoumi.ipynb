{
 "cells": [
  {
   "cell_type": "code",
   "execution_count": 1,
   "id": "32745ab5",
   "metadata": {},
   "outputs": [
    {
     "name": "stdout",
     "output_type": "stream",
     "text": [
      "Computer's pick: Scissors\n"
     ]
    }
   ],
   "source": [
    "import tkinter as tk\n",
    "import random\n",
    "\n",
    "# Initialize the game window\n",
    "window = tk.Tk()\n",
    "window.title(\"Rock Paper Scissors Game\")\n",
    "window.geometry(\"400x300\")\n",
    "window.configure(bg=\"lightblue\")\n",
    "\n",
    "# Create a label for the game title\n",
    "title_label = tk.Label(window, text=\"Rock Paper Scissors\", font=(\"Helvetica\", 18, \"bold\"), bg=\"lightblue\")\n",
    "title_label.pack(pady=10)\n",
    "\n",
    "# Prompt the user to choose between rock, paper, or scissors\n",
    "prompt_label = tk.Label(window, text=\"Choose Rock, Paper, or Scissors:\", font=(\"Helvetica\", 12), bg=\"lightblue\")\n",
    "prompt_label.pack(pady=5)\n",
    "\n",
    "# Create an input field for the user to enter their choice\n",
    "player_choice = tk.StringVar(value=None)\n",
    "choice_entry = tk.Entry(window, textvariable=player_choice, font=(\"Helvetica\", 12))\n",
    "choice_entry.pack(pady=5)\n",
    "\n",
    "# Generate a random selection for the computer\n",
    "choices = [\"Rock\", \"Paper\", \"Scissors\"]\n",
    "comp_pick = random.choice(choices)\n",
    "\n",
    "# Just for testing, print the computer's pick\n",
    "print(f\"Computer's pick: {comp_pick}\")\n",
    "\n",
    "# Start the main loop of the application\n",
    "window.mainloop()\n"
   ]
  },
  {
   "cell_type": "code",
   "execution_count": null,
   "id": "f72e3910",
   "metadata": {},
   "outputs": [],
   "source": []
  }
 ],
 "metadata": {
  "kernelspec": {
   "display_name": "Python 3 (ipykernel)",
   "language": "python",
   "name": "python3"
  },
  "language_info": {
   "codemirror_mode": {
    "name": "ipython",
    "version": 3
   },
   "file_extension": ".py",
   "mimetype": "text/x-python",
   "name": "python",
   "nbconvert_exporter": "python",
   "pygments_lexer": "ipython3",
   "version": "3.11.5"
  }
 },
 "nbformat": 4,
 "nbformat_minor": 5
}
