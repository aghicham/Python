{
 "cells": [
  {
   "cell_type": "code",
   "execution_count": 11,
   "id": "2b5d8a91",
   "metadata": {},
   "outputs": [],
   "source": [
    "import tkinter as tk\n",
    "import random\n",
    "\n",
    "# Initialize the main application window\n",
    "window = tk.Tk()\n",
    "window.title(\"Rock Paper Scissors Game\")\n",
    "window.geometry(\"400x300\")\n",
    "\n",
    "# Game logic\n",
    "choices = [\"Rock\", \"Paper\", \"Scissors\"]\n",
    "\n",
    "def determine_winner(player_choice, computer_choice):\n",
    "    if player_choice == computer_choice:\n",
    "        return \"It's a tie!\"\n",
    "    elif (player_choice == \"Rock\" and computer_choice == \"Scissors\") or \\\n",
    "         (player_choice == \"Scissors\" and computer_choice == \"Paper\") or \\\n",
    "         (player_choice == \"Paper\" and computer_choice == \"Rock\"):\n",
    "        return \"You win!\"\n",
    "    else:\n",
    "        return \"You lose!\"\n",
    "\n",
    "def play_game(player_choice):\n",
    "    computer_choice = random.choice(choices)\n",
    "    result = determine_winner(player_choice, computer_choice)\n",
    "    result_label.config(text=f\"Computer chose: {computer_choice}\\n{result}\")\n",
    "\n",
    "def reset_game():\n",
    "    result_label.config(text=\"\")\n",
    "    player_choice.set(None)\n",
    "\n",
    "def exit_game():\n",
    "    window.destroy()\n",
    "\n",
    "# User Interface Setup\n",
    "player_choice = tk.StringVar(value=None)\n",
    "\n",
    "# Create radio buttons for player to select Rock, Paper, or Scissors\n",
    "tk.Label(window, text=\"Choose Rock, Paper, or Scissors:\").pack()\n",
    "tk.Radiobutton(window, text=\"Rock\", variable=player_choice, value=\"Rock\").pack()\n",
    "tk.Radiobutton(window, text=\"Paper\", variable=player_choice, value=\"Paper\").pack()\n",
    "tk.Radiobutton(window, text=\"Scissors\", variable=player_choice, value=\"Scissors\").pack()\n",
    "\n",
    "# Create buttons to play, reset, or exit the game\n",
    "tk.Button(window, text=\"Play\", command=lambda: play_game(player_choice.get())).pack()\n",
    "tk.Button(window, text=\"Reset\", command=reset_game).pack()\n",
    "tk.Button(window, text=\"Exit\", command=exit_game).pack()\n",
    "\n",
    "# Label to display the result of the game\n",
    "result_label = tk.Label(window, text=\"\")\n",
    "result_label.pack()\n",
    "\n",
    "# Start the main loop of the application\n",
    "window.mainloop()\n"
   ]
  },
  {
   "cell_type": "code",
   "execution_count": null,
   "id": "4a6dbad9",
   "metadata": {},
   "outputs": [],
   "source": []
  }
 ],
 "metadata": {
  "kernelspec": {
   "display_name": "Python 3 (ipykernel)",
   "language": "python",
   "name": "python3"
  },
  "language_info": {
   "codemirror_mode": {
    "name": "ipython",
    "version": 3
   },
   "file_extension": ".py",
   "mimetype": "text/x-python",
   "name": "python",
   "nbconvert_exporter": "python",
   "pygments_lexer": "ipython3",
   "version": "3.11.5"
  }
 },
 "nbformat": 4,
 "nbformat_minor": 5
}
